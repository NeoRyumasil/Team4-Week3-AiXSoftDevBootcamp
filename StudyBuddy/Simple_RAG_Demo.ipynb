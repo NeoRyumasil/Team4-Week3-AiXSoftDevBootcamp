{
 "cells": [
  {
   "cell_type": "markdown",
   "metadata": {},
   "source": [
    "# 🧠 Simple RAG Pipeline Demo\n",
    "\n",
    "This notebook demonstrates the RAG (Retrieval-Augmented Generation) pipeline step by step with simple, easy-to-understand code.\n",
    "\n",
    "## What is RAG?\n",
    "RAG combines:\n",
    "- **Retrieval**: Finding relevant documents\n",
    "- **Generation**: Creating answers using AI\n",
    "\n",
    "## Prerequisites\n",
    "1. Make sure your `.env` file has your `GEMINI_API_KEY`\n",
    "2. Documents are in the `./data/documents/` folder"
   ]
  },
  {
   "cell_type": "markdown",
   "metadata": {},
   "source": [
    "## 🛠️ Setup - Import Libraries"
   ]
  },
  {
   "cell_type": "code",
   "execution_count": 1,
   "metadata": {},
   "outputs": [
    {
     "name": "stdout",
     "output_type": "stream",
     "text": [
      "✅ Setup complete!\n",
      "📁 Working from: /Users/adrianglazer/General Projects/Personal Knowledge Assistant\n"
     ]
    }
   ],
   "source": [
    "import os\n",
    "import sys\n",
    "import warnings\n",
    "from pathlib import Path\n",
    "\n",
    "# Hide warnings for cleaner output\n",
    "os.environ[\"ANONYMIZED_TELEMETRY\"] = \"False\"\n",
    "os.environ[\"TOKENIZERS_PARALLELISM\"] = \"false\"\n",
    "warnings.filterwarnings(\"ignore\")\n",
    "\n",
    "# Add our project to Python path\n",
    "sys.path.append(str(Path.cwd()))\n",
    "\n",
    "# Import our RAG system\n",
    "from src.rag_pipeline import RAGPipeline\n",
    "from config.settings import settings\n",
    "\n",
    "print(\"✅ Setup complete!\")\n",
    "print(f\"📁 Working from: {Path.cwd()}\")"
   ]
  },
  {
   "cell_type": "markdown",
   "metadata": {},
   "source": [
    "## 🔑 Check Configuration"
   ]
  },
  {
   "cell_type": "code",
   "execution_count": 2,
   "metadata": {},
   "outputs": [
    {
     "name": "stdout",
     "output_type": "stream",
     "text": [
      "✅ API key is configured\n",
      "✅ Found 8 documents\n",
      "   📄 CV - Adrian Putra Pratama Badjideh.pdf\n",
      "   📄 sample_note.md\n",
      "   📄 Proposal Pengembangan Sistem Aplikasi Marketplace Konsultasi Profesional (Revisi).pdf\n",
      "   📄 .gitkeep\n",
      "   📄 sample_python_notes.txt\n",
      "\n",
      "⚙️ Current settings:\n",
      "   🤖 AI Model: gemini-1.5-flash\n",
      "   🧮 Embeddings: all-MiniLM-L6-v2\n",
      "   📊 Top results: 5\n"
     ]
    }
   ],
   "source": [
    "# Check if everything is configured properly\n",
    "try:\n",
    "    settings.validate_required_keys()\n",
    "    print(\"✅ API key is configured\")\n",
    "except ValueError as e:\n",
    "    print(f\"❌ {e}\")\n",
    "    print(\"💡 Please set up your .env file with GEMINI_API_KEY\")\n",
    "\n",
    "# Check if we have documents\n",
    "docs_folder = Path(\"data/documents\")\n",
    "if docs_folder.exists():\n",
    "    doc_files = list(docs_folder.glob(\"*.*\"))\n",
    "    print(f\"✅ Found {len(doc_files)} documents\")\n",
    "    for doc in doc_files[:5]:  # Show first 5\n",
    "        print(f\"   📄 {doc.name}\")\n",
    "else:\n",
    "    print(\"❌ No documents folder found\")\n",
    "\n",
    "print(f\"\\n⚙️ Current settings:\")\n",
    "print(f\"   🤖 AI Model: {settings.GEMINI_MODEL}\")\n",
    "print(f\"   🧮 Embeddings: {settings.EMBEDDING_MODEL}\")\n",
    "print(f\"   📊 Top results: {settings.TOP_K_RESULTS}\")"
   ]
  },
  {
   "cell_type": "markdown",
   "metadata": {},
   "source": [
    "## 🚀 Initialize RAG System"
   ]
  },
  {
   "cell_type": "code",
   "execution_count": 3,
   "metadata": {},
   "outputs": [
    {
     "name": "stderr",
     "output_type": "stream",
     "text": [
      "Failed to send telemetry event ClientStartEvent: capture() takes 1 positional argument but 3 were given\n"
     ]
    },
    {
     "name": "stdout",
     "output_type": "stream",
     "text": [
      "🔄 Starting RAG system...\n"
     ]
    },
    {
     "name": "stderr",
     "output_type": "stream",
     "text": [
      "Failed to send telemetry event ClientStartEvent: capture() takes 1 positional argument but 3 were given\n",
      "Failed to send telemetry event CollectionGetEvent: capture() takes 1 positional argument but 3 were given\n"
     ]
    },
    {
     "name": "stdout",
     "output_type": "stream",
     "text": [
      "✅ RAG system ready!\n",
      "\n",
      "📊 Knowledge Base:\n",
      "   📄 7 documents\n",
      "   🧩 30 text chunks\n"
     ]
    }
   ],
   "source": [
    "# Create our RAG system\n",
    "print(\"🔄 Starting RAG system...\")\n",
    "\n",
    "try:\n",
    "    rag = RAGPipeline()\n",
    "    print(\"✅ RAG system ready!\")\n",
    "    \n",
    "    # Check what documents we have in our knowledge base\n",
    "    stats = rag.get_knowledge_base_stats()\n",
    "    \n",
    "    if stats['success']:\n",
    "        print(f\"\\n📊 Knowledge Base:\")\n",
    "        print(f\"   📄 {stats['total_files']} documents\")\n",
    "        print(f\"   🧩 {stats['stats']['total_chunks']} text chunks\")\n",
    "        \n",
    "        if stats['total_files'] == 0:\n",
    "            print(\"\\n🔄 No documents found. Let's add some...\")\n",
    "            result = rag.ingest_documents(\"data/documents\")\n",
    "            if result['success']:\n",
    "                print(f\"✅ Added {result['documents_processed']} documents!\")\n",
    "            else:\n",
    "                print(f\"❌ Failed to add documents: {result['error']}\")\n",
    "    else:\n",
    "        print(f\"❌ Error getting stats: {stats['error']}\")\n",
    "        \n",
    "except Exception as e:\n",
    "    print(f\"❌ Failed to start RAG system: {e}\")\n",
    "    rag = None"
   ]
  },
  {
   "cell_type": "markdown",
   "metadata": {},
   "source": [
    "## ❓ Question 1: What topics are covered in the documents?"
   ]
  },
  {
   "cell_type": "code",
   "execution_count": 4,
   "metadata": {},
   "outputs": [
    {
     "name": "stdout",
     "output_type": "stream",
     "text": [
      "❓ Question: What are the main topics covered in these documents?\n",
      "🔍 Searching documents...\n"
     ]
    },
    {
     "name": "stderr",
     "output_type": "stream",
     "text": [
      "Failed to send telemetry event CollectionQueryEvent: capture() takes 1 positional argument but 3 were given\n"
     ]
    },
    {
     "name": "stdout",
     "output_type": "stream",
     "text": [
      "\n",
      "💡 Answer:\n",
      "The provided text is from the HBS MBA Application Guide 2025-2026.  It covers topics related to applying to Harvard Business School's MBA program.  These include:  introducing yourself (including prior application status and joint degree program information),  personal information,  your experience (resume, employment history, accomplishments, awards), your academics (transcripts, GRE/GMAT scores, English language tests), essays, recommendations, and fee waivers.\n",
      "\n",
      "\n",
      "📚 Sources used:\n",
      "   📄 HBS MBA Application Guide 2025-2026.pdf\n"
     ]
    }
   ],
   "source": [
    "if rag:\n",
    "    question = \"What are the main topics covered in these documents?\"\n",
    "    \n",
    "    print(f\"❓ Question: {question}\")\n",
    "    print(\"🔍 Searching documents...\")\n",
    "    \n",
    "    try:\n",
    "        result = rag.query(question)\n",
    "        \n",
    "        if result['success']:\n",
    "            print(f\"\\n💡 Answer:\")\n",
    "            print(result['answer'])\n",
    "            \n",
    "            if result.get('sources'):\n",
    "                print(f\"\\n📚 Sources used:\")\n",
    "                for source in result['sources']:\n",
    "                    print(f\"   📄 {source}\")\n",
    "        else:\n",
    "            print(f\"❌ Error: {result['error']}\")\n",
    "            \n",
    "    except Exception as e:\n",
    "        print(f\"❌ Failed to answer: {e}\")\n",
    "else:\n",
    "    print(\"❌ RAG system not available\")"
   ]
  },
  {
   "cell_type": "markdown",
   "metadata": {},
   "source": [
    "## ❓ Question 2: What skills and technologies are mentioned?"
   ]
  },
  {
   "cell_type": "code",
   "execution_count": 5,
   "metadata": {},
   "outputs": [
    {
     "name": "stdout",
     "output_type": "stream",
     "text": [
      "❓ Question: What skills, technologies, or programming languages are mentioned in the documents?\n",
      "🔍 Searching documents...\n",
      "\n",
      "💡 Answer:\n",
      "Adrian's CV [Source: CV - Adrian Putra Pratama Badjideh.pdf] lists proficiency in Python and SQL.  He also mentions skills in exploratory data analysis and predictive modeling, as well as expertise in machine learning, predictive analytics, and AI engineering.  His projects utilized XGBoost and MySQL.\n",
      "\n",
      "\n",
      "📚 Sources used:\n",
      "   📄 CV - Adrian Putra Pratama Badjideh.pdf\n"
     ]
    }
   ],
   "source": [
    "if rag:\n",
    "    question = \"What skills, technologies, or programming languages are mentioned in the documents?\"\n",
    "    \n",
    "    print(f\"❓ Question: {question}\")\n",
    "    print(\"🔍 Searching documents...\")\n",
    "    \n",
    "    try:\n",
    "        result = rag.query(question)\n",
    "        \n",
    "        if result['success']:\n",
    "            print(f\"\\n💡 Answer:\")\n",
    "            print(result['answer'])\n",
    "            \n",
    "            if result.get('sources'):\n",
    "                print(f\"\\n📚 Sources used:\")\n",
    "                for source in result['sources']:\n",
    "                    print(f\"   📄 {source}\")\n",
    "        else:\n",
    "            print(f\"❌ Error: {result['error']}\")\n",
    "            \n",
    "    except Exception as e:\n",
    "        print(f\"❌ Failed to answer: {e}\")\n",
    "else:\n",
    "    print(\"❌ RAG system not available\")"
   ]
  },
  {
   "cell_type": "markdown",
   "metadata": {},
   "source": [
    "## ❓ Question 3: What projects or work experience are described?"
   ]
  },
  {
   "cell_type": "code",
   "execution_count": 6,
   "metadata": {},
   "outputs": [
    {
     "name": "stdout",
     "output_type": "stream",
     "text": [
      "❓ Question: What projects, work experience, or professional activities are described in these documents?\n",
      "🔍 Searching documents...\n",
      "\n",
      "💡 Answer:\n",
      "The provided text mentions a \"Personal Knowledge Assistant Project\" (sample_note.md),  detailing its features and technical specifications.  The second document (HBS MBA Application Guide 2025-2026.pdf) discusses the application requirements for Harvard Business School, including sections for resume/CV, employment history (with details on roles, responsibilities, accomplishments, and challenges), activities, awards, and recognition.  However, specific details about the nature of these experiences are not provided.\n",
      "\n",
      "\n",
      "📚 Sources used:\n",
      "   📄 HBS MBA Application Guide 2025-2026.pdf\n",
      "   📄 sample_note.md\n"
     ]
    }
   ],
   "source": [
    "if rag:\n",
    "    question = \"What projects, work experience, or professional activities are described in these documents?\"\n",
    "    \n",
    "    print(f\"❓ Question: {question}\")\n",
    "    print(\"🔍 Searching documents...\")\n",
    "    \n",
    "    try:\n",
    "        result = rag.query(question)\n",
    "        \n",
    "        if result['success']:\n",
    "            print(f\"\\n💡 Answer:\")\n",
    "            print(result['answer'])\n",
    "            \n",
    "            if result.get('sources'):\n",
    "                print(f\"\\n📚 Sources used:\")\n",
    "                for source in result['sources']:\n",
    "                    print(f\"   📄 {source}\")\n",
    "        else:\n",
    "            print(f\"❌ Error: {result['error']}\")\n",
    "            \n",
    "    except Exception as e:\n",
    "        print(f\"❌ Failed to answer: {e}\")\n",
    "else:\n",
    "    print(\"❌ RAG system not available\")"
   ]
  },
  {
   "cell_type": "markdown",
   "metadata": {},
   "source": [
    "## ❓ Question 4: What educational background or qualifications are mentioned?"
   ]
  },
  {
   "cell_type": "code",
   "execution_count": 7,
   "metadata": {},
   "outputs": [
    {
     "name": "stdout",
     "output_type": "stream",
     "text": [
      "❓ Question: What educational background, qualifications, or academic achievements are mentioned?\n",
      "🔍 Searching documents...\n",
      "\n",
      "💡 Answer:\n",
      "To apply to Harvard Business School, a bachelor's degree or equivalent is required (\"HBS MBA Application Guide 2025-2026.pdf\").  Applicants must also upload transcripts from all undergraduate and graduate institutions attended (\"HBS MBA Application Guide 2025-2026.pdf\").  A GRE or GMAT score is required before application submission (\"HBS MBA Application Guide 2025-2026.pdf\"), and an English language proficiency test (TOEFL, IELTS, PTE, or Duolingo) is needed if the applicant's undergraduate institution didn't use English as its sole language of instruction (\"HBS MBA Application Guide 2025-2026.pdf\").\n",
      "\n",
      "\n",
      "📚 Sources used:\n",
      "   📄 HBS MBA Application Guide 2025-2026.pdf\n"
     ]
    }
   ],
   "source": [
    "if rag:\n",
    "    question = \"What educational background, qualifications, or academic achievements are mentioned?\"\n",
    "    \n",
    "    print(f\"❓ Question: {question}\")\n",
    "    print(\"🔍 Searching documents...\")\n",
    "    \n",
    "    try:\n",
    "        result = rag.query(question)\n",
    "        \n",
    "        if result['success']:\n",
    "            print(f\"\\n💡 Answer:\")\n",
    "            print(result['answer'])\n",
    "            \n",
    "            if result.get('sources'):\n",
    "                print(f\"\\n📚 Sources used:\")\n",
    "                for source in result['sources']:\n",
    "                    print(f\"   📄 {source}\")\n",
    "        else:\n",
    "            print(f\"❌ Error: {result['error']}\")\n",
    "            \n",
    "    except Exception as e:\n",
    "        print(f\"❌ Failed to answer: {e}\")\n",
    "else:\n",
    "    print(\"❌ RAG system not available\")"
   ]
  },
  {
   "cell_type": "markdown",
   "metadata": {},
   "source": [
    "## ❓ Question 5: What specific applications or systems are discussed?"
   ]
  },
  {
   "cell_type": "code",
   "execution_count": 8,
   "metadata": {},
   "outputs": [
    {
     "name": "stdout",
     "output_type": "stream",
     "text": [
      "❓ Question: What specific applications, systems, or software solutions are discussed in the documents?\n",
      "🔍 Searching documents...\n",
      "\n",
      "💡 Answer:\n",
      "The provided text mentions several applications, systems, and software solutions:\n",
      "\n",
      "* **ChromaDB:** Used for efficient similarity search with sentence transformers (sample_note.md).\n",
      "* **Google's Gemini AI:**  Leveraged for natural language understanding and generation (sample_note.md).\n",
      "* **Streamlit:** Used for the chat interface (sample_note.md).\n",
      "* **NumPy, Pandas, Requests, Flask, Django, Matplotlib, Scikit-learn:** Common Python libraries for various tasks including numerical computing, data manipulation, HTTP requests, web frameworks, data visualization, and machine learning (sample_python_notes.txt).\n",
      "\n",
      "\n",
      "\n",
      "📚 Sources used:\n",
      "   📄 sample_python_notes.txt\n",
      "   📄 sample_note.md\n"
     ]
    }
   ],
   "source": [
    "if rag:\n",
    "    question = \"What specific applications, systems, or software solutions are discussed in the documents?\"\n",
    "    \n",
    "    print(f\"❓ Question: {question}\")\n",
    "    print(\"🔍 Searching documents...\")\n",
    "    \n",
    "    try:\n",
    "        result = rag.query(question)\n",
    "        \n",
    "        if result['success']:\n",
    "            print(f\"\\n💡 Answer:\")\n",
    "            print(result['answer'])\n",
    "            \n",
    "            if result.get('sources'):\n",
    "                print(f\"\\n📚 Sources used:\")\n",
    "                for source in result['sources']:\n",
    "                    print(f\"   📄 {source}\")\n",
    "        else:\n",
    "            print(f\"❌ Error: {result['error']}\")\n",
    "            \n",
    "    except Exception as e:\n",
    "        print(f\"❌ Failed to answer: {e}\")\n",
    "else:\n",
    "    print(\"❌ RAG system not available\")"
   ]
  },
  {
   "cell_type": "markdown",
   "metadata": {},
   "source": [
    "## 🧪 Try Your Own Question"
   ]
  },
  {
   "cell_type": "code",
   "execution_count": 9,
   "metadata": {},
   "outputs": [
    {
     "name": "stdout",
     "output_type": "stream",
     "text": [
      "❓ Your Question: Tell me about data science experience\n",
      "🔍 Searching documents...\n",
      "\n",
      "💡 Answer:\n",
      "Adrian Putra Pratama Badjideh's CV (CV - Adrian Putra Pratama Badjideh.pdf) highlights his experience in data science through several projects and roles:\n",
      "\n",
      "* **ATM Predictive Analytics for Future Maintenance Using XGBoost (PT. Datindo Infonet Prima):**  He built a predictive model using XGBoost, achieving 83% accuracy in forecasting ATM maintenance needs. This resulted in the potential for a 15% reduction in unplanned maintenance costs (CV - Adrian Putra Pratama Badjideh.pdf).\n",
      "\n",
      "* **Garuda Indonesia Data Warehouse Project:** He improved reporting capability by an estimated 60% by developing a star schema and building a full ETL pipeline in MySQL (CV - Adrian Putra Pratama Badjideh.pdf).\n",
      "\n",
      "* **Siemens Healthineers Database Specialist:** He built dashboards to improve task distribution efficiency by 25% and reduce average downtime by 12% through better monitoring (CV - Adrian Putra Pratama Badjideh.pdf).  This involved analyzing multiple datasets with 60,000+ rows and 300+ rows respectively (CV - Adrian Putra Pratama Badjideh.pdf).\n",
      "\n",
      "His education includes a Data Science degree from Telkom University with a 3.7 GPA (CV - Adrian Putra Pratama Badjideh.pdf).  He also co-founded and is the CEO of ADA4Career, leveraging AI in a business context (CV - Adrian Putra Pratama Badjideh.pdf).\n",
      "\n",
      "\n",
      "📚 Sources used:\n",
      "   📄 CV - Adrian Putra Pratama Badjideh.pdf\n",
      "\n",
      "💡 Tips for better questions:\n",
      "   • Be specific: 'What Python libraries are mentioned?'\n",
      "   • Ask about content: 'What projects involve machine learning?'\n",
      "   • Request summaries: 'Summarize the key achievements'\n"
     ]
    }
   ],
   "source": [
    "if rag:\n",
    "    # Change this to ask your own question!\n",
    "    your_question = \"Tell me about data science experience\"\n",
    "    \n",
    "    print(f\"❓ Your Question: {your_question}\")\n",
    "    print(\"🔍 Searching documents...\")\n",
    "    \n",
    "    try:\n",
    "        result = rag.query(your_question)\n",
    "        \n",
    "        if result['success']:\n",
    "            print(f\"\\n💡 Answer:\")\n",
    "            print(result['answer'])\n",
    "            \n",
    "            if result.get('sources'):\n",
    "                print(f\"\\n📚 Sources used:\")\n",
    "                for source in result['sources']:\n",
    "                    print(f\"   📄 {source}\")\n",
    "        else:\n",
    "            print(f\"❌ Error: {result['error']}\")\n",
    "            \n",
    "    except Exception as e:\n",
    "        print(f\"❌ Failed to answer: {e}\")\n",
    "else:\n",
    "    print(\"❌ RAG system not available\")\n",
    "    \n",
    "print(\"\\n💡 Tips for better questions:\")\n",
    "print(\"   • Be specific: 'What Python libraries are mentioned?'\")\n",
    "print(\"   • Ask about content: 'What projects involve machine learning?'\")\n",
    "print(\"   • Request summaries: 'Summarize the key achievements'\")"
   ]
  },
  {
   "cell_type": "markdown",
   "metadata": {},
   "source": [
    "## 📋 How RAG Works - Simple Explanation\n",
    "\n",
    "Here's what happened behind the scenes:\n",
    "\n",
    "### 1. **📄 Document Processing**\n",
    "- Your documents were broken into smaller chunks\n",
    "- Each chunk contains about 1000 characters with 200 character overlap\n",
    "\n",
    "### 2. **🧮 Creating Embeddings**  \n",
    "- Each text chunk was converted into a 384-dimensional vector\n",
    "- Similar texts have similar vectors (closer in \"space\")\n",
    "\n",
    "### 3. **🗃️ Vector Storage**\n",
    "- All vectors were stored in ChromaDB database\n",
    "- This allows fast similarity search\n",
    "\n",
    "### 4. **🔍 Question Processing**\n",
    "- Your question was also converted to a vector\n",
    "- System found the most similar document chunks\n",
    "- Top 5 most relevant chunks were selected\n",
    "\n",
    "### 5. **🤖 Answer Generation**\n",
    "- Relevant chunks were sent to Gemini AI\n",
    "- AI generated an answer based on the context\n",
    "- Sources were tracked and returned\n",
    "\n",
    "## 🚀 Next Steps\n",
    "\n",
    "- Add more documents to `data/documents/` folder\n",
    "- Try the web interface: `python run.py`\n",
    "- Experiment with settings in `config/settings.py`\n",
    "- Check out the full demo: `RAG_Pipeline_Demo.ipynb`"
   ]
  }
 ],
 "metadata": {
  "kernelspec": {
   "display_name": "Python 3",
   "language": "python",
   "name": "python3"
  },
  "language_info": {
   "codemirror_mode": {
    "name": "ipython",
    "version": 3
   },
   "file_extension": ".py",
   "mimetype": "text/x-python",
   "name": "python",
   "nbconvert_exporter": "python",
   "pygments_lexer": "ipython3",
   "version": "3.13.3"
  }
 },
 "nbformat": 4,
 "nbformat_minor": 4
}
